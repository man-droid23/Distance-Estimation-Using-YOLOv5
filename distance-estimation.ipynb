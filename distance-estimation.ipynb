{
 "cells": [
  {
   "cell_type": "code",
   "execution_count": 2,
   "metadata": {},
   "outputs": [],
   "source": [
    "# define the distance estimation function\n",
    "def estimate_distance(bbox):\n",
    "    # compute the width of the object in pixels\n",
    "    pixel_width = bbox[2] - bbox[0]\n",
    "    \n",
    "    # assume the object is at a fixed distance of 2 meters\n",
    "    known_distance = 2.0\n",
    "    \n",
    "    # compute the focal length of the camera (you may need to adjust this value)\n",
    "    focal_length = 800.0\n",
    "    \n",
    "    # compute the estimated distance to the object\n",
    "    estimated_distance = (known_distance * focal_length) / pixel_width\n",
    "    \n",
    "    return estimated_distance"
   ]
  },
  {
   "cell_type": "code",
   "execution_count": 3,
   "metadata": {},
   "outputs": [
    {
     "name": "stderr",
     "output_type": "stream",
     "text": [
      "Using cache found in C:\\Users\\Alif/.cache\\torch\\hub\\ultralytics_yolov5_master\n",
      "YOLOv5  2023-4-2 Python-3.10.10 torch-2.0.0+cu117 CUDA:0 (NVIDIA GeForce RTX 3050, 8192MiB)\n",
      "\n",
      "Fusing layers... \n",
      "Model summary: 224 layers, 7266973 parameters, 0 gradients\n",
      "Adding AutoShape... \n"
     ]
    }
   ],
   "source": [
    "import cv2\n",
    "import numpy as np\n",
    "import torch\n",
    "from torchvision.ops.boxes import batched_nms\n",
    "\n",
    "\n",
    "# Load YOLOv5 model\n",
    "model = torch.hub.load('ultralytics/yolov5', 'yolov5s', pretrained=True)\n",
    "# model = torch.hub.load('ultralytics/yolov5', 'custom', path='best.pt')\n",
    "\n",
    "# Set detection threshold\n",
    "conf_thresh = 0.25\n"
   ]
  },
  {
   "cell_type": "code",
   "execution_count": 4,
   "metadata": {},
   "outputs": [],
   "source": [
    "# Initialize video stream\n",
    "cap = cv2.VideoCapture(0)\n",
    "\n",
    "while True:\n",
    "    # Read a frame from the video stream\n",
    "    ret, frame = cap.read()\n",
    "\n",
    "    # Detect objects in the frame using the YOLOv5 model\n",
    "    results = model(frame)\n",
    "\n",
    "    # Apply non-maximum suppression to remove redundant bounding boxes\n",
    "    keep_indices = batched_nms(results.xyxy[0][:, :4], results.xyxy[0][:, 5], results.pred[0][:, 0], iou_threshold=0.45)\n",
    "    results.xyxy[0] = results.xyxy[0][keep_indices]\n",
    "\n",
    "    # If objects were detected\n",
    "    if len(results.xyxy[0]) > 0:\n",
    "        # Iterate over the detected objects\n",
    "        for i, obj in enumerate(results.xyxy[0]):\n",
    "            # Extract the bounding box and class label of the object\n",
    "            bbox = obj[:4].int()\n",
    "            class_index = int(results.pred[0][i, 5])\n",
    "            class_label = model.names[class_index]\n",
    "\n",
    "            # Draw the bounding box and class label on the frame\n",
    "            # cv2.rectangle(frame, (bbox[0], bbox[1]), (bbox[2], bbox[3]), (0, 255, 0), 2)\n",
    "            cv2.rectangle(frame, (bbox[0].tolist(), bbox[1].tolist()), (bbox[2].tolist(), bbox[3].tolist()), (0, 255, 0), 2)\n",
    "            # cv2.putText(frame, class_label, (bbox[0], bbox[1] - 10), cv2.FONT_HERSHEY_SIMPLEX, 0.5, (0, 255, 0), 2)\n",
    "            cv2.putText(frame, class_label, (bbox[0].tolist(), bbox[1].tolist() - 10), cv2.FONT_HERSHEY_SIMPLEX, 0.5, (0, 255, 0), 2)\n",
    "\n",
    "            # Estimate the distance to the object\n",
    "            distance = estimate_distance(bbox)\n",
    "\n",
    "            # Draw the estimated distance on the frame\n",
    "            cv2.putText(frame, f\"{distance:.2f} meters\", (bbox[0].tolist(), bbox[3].tolist() + 20), cv2.FONT_HERSHEY_SIMPLEX, 0.5, (0, 255, 0), 2)\n",
    "\n",
    "    # Display the frame\n",
    "    cv2.imshow('frame', frame)\n",
    "\n",
    "    # Exit if the 'q' key is pressed\n",
    "    if cv2.waitKey(1) & 0xFF == ord('q'):\n",
    "        break\n",
    "\n",
    "cap.release()\n",
    "cv2.destroyAllWindows()"
   ]
  },
  {
   "cell_type": "code",
   "execution_count": null,
   "metadata": {},
   "outputs": [],
   "source": []
  }
 ],
 "metadata": {
  "kernelspec": {
   "display_name": "distance_estimation",
   "language": "python",
   "name": "python3"
  },
  "language_info": {
   "codemirror_mode": {
    "name": "ipython",
    "version": 3
   },
   "file_extension": ".py",
   "mimetype": "text/x-python",
   "name": "python",
   "nbconvert_exporter": "python",
   "pygments_lexer": "ipython3",
   "version": "3.10.10"
  },
  "orig_nbformat": 4
 },
 "nbformat": 4,
 "nbformat_minor": 2
}
